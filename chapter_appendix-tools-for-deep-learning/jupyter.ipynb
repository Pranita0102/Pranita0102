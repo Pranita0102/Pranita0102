{
  "cells": [
    {
      "cell_type": "markdown",
      "metadata": {
        "id": "view-in-github",
        "colab_type": "text"
      },
      "source": [
        "<a href=\"https://colab.research.google.com/github/Pranita0102/Pranita0102/blob/main/chapter_appendix-tools-for-deep-learning/jupyter.ipynb\" target=\"_parent\"><img src=\"https://colab.research.google.com/assets/colab-badge.svg\" alt=\"Open In Colab\"/></a>"
      ]
    },
    {
      "cell_type": "markdown",
      "source": [
        "**SORTING ALGORITHM**"
      ],
      "metadata": {
        "id": "TwbrfNCN0Q68"
      },
      "id": "TwbrfNCN0Q68"
    },
    {
      "cell_type": "code",
      "source": [
        "lst = [13,75,57,97,4,198,735]\n",
        "lst.sort()\n",
        "print(lst)"
      ],
      "metadata": {
        "id": "NNb5Ym-50YRO",
        "outputId": "aaa2d423-63eb-4592-b72d-48619eb571b7",
        "colab": {
          "base_uri": "https://localhost:8080/"
        }
      },
      "id": "NNb5Ym-50YRO",
      "execution_count": 1,
      "outputs": [
        {
          "output_type": "stream",
          "name": "stdout",
          "text": [
            "[4, 13, 57, 75, 97, 198, 735]\n"
          ]
        }
      ]
    },
    {
      "cell_type": "code",
      "source": [
        "lst.sort(reverse=True)"
      ],
      "metadata": {
        "id": "l2zXZC3H0vNB"
      },
      "id": "l2zXZC3H0vNB",
      "execution_count": 3,
      "outputs": []
    }
  ],
  "metadata": {
    "kernelspec": {
      "display_name": "Python 3",
      "name": "python3"
    },
    "language_info": {
      "name": "python"
    },
    "required_libs": [],
    "colab": {
      "provenance": [],
      "include_colab_link": true
    }
  },
  "nbformat": 4,
  "nbformat_minor": 5
}